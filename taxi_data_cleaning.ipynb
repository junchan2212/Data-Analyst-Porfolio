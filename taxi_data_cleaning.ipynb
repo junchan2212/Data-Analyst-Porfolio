{
 "cells": [
  {
   "cell_type": "code",
   "execution_count": null,
   "id": "8e99e198-414d-497b-a5ab-f3428a5a6010",
   "metadata": {},
   "outputs": [],
   "source": [
    "import pandas as pd\n",
    "import matplotlib.pyplot as plt\n"
   ]
  },
  {
   "cell_type": "code",
   "execution_count": null,
   "id": "c9213750-8f18-49eb-a582-b3defc413cd7",
   "metadata": {},
   "outputs": [],
   "source": [
    "import pyarrow.parquet as pq\n",
    "pd.set_option('display.float_format', '{:.2f}'.format)\n",
    "pd.set_option('display.max_rows', 100)\n",
    "pd.set_option('display.max_columns', 100)"
   ]
  },
  {
   "cell_type": "code",
   "execution_count": null,
   "id": "c12b0c41-4dff-4aea-a705-ba681e1934d6",
   "metadata": {},
   "outputs": [],
   "source": [
    "file_path = 'C:/Users/DELL/Desktop/Untitled Folder/yellow_tripdata_2022-01.parquet'\n",
    "table = pq.read_table(file_path)"
   ]
  },
  {
   "cell_type": "code",
   "execution_count": null,
   "id": "88289bce-0523-460c-9e0e-1a7f28cad220",
   "metadata": {},
   "outputs": [],
   "source": [
    "df = table.to_pandas()\n"
   ]
  },
  {
   "cell_type": "markdown",
   "id": "55676020-5d7d-40b1-a718-e1f4668e0dc6",
   "metadata": {},
   "source": [
    "# Check for errors, duplicates, null"
   ]
  },
  {
   "cell_type": "markdown",
   "id": "e341427b-9bc3-459d-b2e8-52f2468c53c3",
   "metadata": {},
   "source": [
    "## Remove NA"
   ]
  },
  {
   "cell_type": "code",
   "execution_count": null,
   "id": "7582f3b2-f482-4c3a-ae7a-0a4a53f02099",
   "metadata": {
    "scrolled": true
   },
   "outputs": [],
   "source": [
    "df.isna().sum()"
   ]
  },
  {
   "cell_type": "code",
   "execution_count": null,
   "id": "6da23d1b-ab3b-4b0c-b49b-842b7fc637b9",
   "metadata": {},
   "outputs": [],
   "source": [
    "df1 = df.dropna()"
   ]
  },
  {
   "cell_type": "markdown",
   "id": "a5ab127b-8932-48a0-b26d-898818b3e611",
   "metadata": {},
   "source": [
    "## Remove Errors (<0 values)"
   ]
  },
  {
   "cell_type": "code",
   "execution_count": null,
   "id": "350d6551-4e9c-48b7-8b9e-c53d37e685ad",
   "metadata": {},
   "outputs": [],
   "source": [
    "columns_to_check = ['fare_amount', 'extra', 'mta_tax', 'tip_amount', 'tolls_amount', 'improvement_surcharge',\n",
    "       'total_amount', 'congestion_surcharge', 'airport_fee']"
   ]
  },
  {
   "cell_type": "code",
   "execution_count": null,
   "id": "c89b8851-4e1c-4bf8-a915-c723334462a0",
   "metadata": {},
   "outputs": [],
   "source": [
    "df2 = df1[~(df1[columns_to_check] < 0).any(axis=1)]"
   ]
  },
  {
   "cell_type": "markdown",
   "id": "e43db28e-08b9-4982-ba67-d7157b32ab6d",
   "metadata": {},
   "source": [
    "## Remove Duplicates"
   ]
  },
  {
   "cell_type": "code",
   "execution_count": null,
   "id": "342aee4b-50f3-4034-9dce-f263d47a92e7",
   "metadata": {},
   "outputs": [],
   "source": [
    "df2.duplicated().sum()"
   ]
  },
  {
   "cell_type": "markdown",
   "id": "6d3ad8d0-4bc9-4e62-b029-4e32f4252478",
   "metadata": {},
   "source": [
    "## Remove Invalid data"
   ]
  },
  {
   "cell_type": "code",
   "execution_count": null,
   "id": "6d3f1063-5f2b-4b2e-ae43-c36afc474724",
   "metadata": {},
   "outputs": [],
   "source": [
    "df2.columns"
   ]
  },
  {
   "cell_type": "code",
   "execution_count": null,
   "id": "53054b76-5c79-4672-a2ea-a60e658ea321",
   "metadata": {},
   "outputs": [],
   "source": [
    "df2['VendorID'].unique()"
   ]
  },
  {
   "cell_type": "code",
   "execution_count": null,
   "id": "8701c09a-e907-40a9-9f72-ebb4b8fe0891",
   "metadata": {},
   "outputs": [],
   "source": [
    "df2 = df2[df['tpep_pickup_datetime'] < df['tpep_dropoff_datetime']]"
   ]
  },
  {
   "cell_type": "code",
   "execution_count": null,
   "id": "23a2aa18-0f87-4a75-9e37-b5d5efbf6f04",
   "metadata": {},
   "outputs": [],
   "source": [
    "df2['passenger_count'].unique()"
   ]
  },
  {
   "cell_type": "code",
   "execution_count": null,
   "id": "e9af8677-999c-4938-9a44-2b211dbb1beb",
   "metadata": {},
   "outputs": [],
   "source": [
    "df2 = df2[df2['passenger_count'] > 0]"
   ]
  },
  {
   "cell_type": "code",
   "execution_count": null,
   "id": "fd67ed11-9f81-490f-b53f-9ebbd721c048",
   "metadata": {},
   "outputs": [],
   "source": [
    "df2 = df2[df2['trip_distance'] > 0]"
   ]
  },
  {
   "cell_type": "code",
   "execution_count": null,
   "id": "85ecb585-7fe8-485d-92b9-bfd256b4d0fd",
   "metadata": {},
   "outputs": [],
   "source": [
    "df2['RatecodeID'].unique()"
   ]
  },
  {
   "cell_type": "code",
   "execution_count": null,
   "id": "6908e281-9b2f-48a0-bddc-2c0732382f7a",
   "metadata": {},
   "outputs": [],
   "source": [
    "df2 = df2[df2['RatecodeID'] != 99]"
   ]
  },
  {
   "cell_type": "code",
   "execution_count": null,
   "id": "7d83a66c-ca57-4e13-be8a-e7b892a8b968",
   "metadata": {},
   "outputs": [],
   "source": [
    "df2['store_and_fwd_flag'].unique()"
   ]
  },
  {
   "cell_type": "code",
   "execution_count": null,
   "id": "20a6e12b-6be5-4e96-9827-fdb0223695ad",
   "metadata": {},
   "outputs": [],
   "source": [
    "df2['PULocationID'].unique()"
   ]
  },
  {
   "cell_type": "code",
   "execution_count": null,
   "id": "d44ad129-5cd2-4ec6-bbc6-955603d2e56d",
   "metadata": {
    "scrolled": true
   },
   "outputs": [],
   "source": [
    "df2['DOLocationID'].unique()"
   ]
  },
  {
   "cell_type": "code",
   "execution_count": null,
   "id": "4834cef2-e9b6-4a65-ac64-bf7ca884a4f0",
   "metadata": {
    "scrolled": true
   },
   "outputs": [],
   "source": [
    "df2['payment_type'].unique()"
   ]
  },
  {
   "cell_type": "code",
   "execution_count": null,
   "id": "581b698f-d53b-474b-8506-b3c49b406e3f",
   "metadata": {},
   "outputs": [],
   "source": [
    "df2 = df2[df2['fare_amount'] > 0]"
   ]
  },
  {
   "cell_type": "code",
   "execution_count": null,
   "id": "b05a9d1c-6f2d-44ea-825a-33c2cdbcaa90",
   "metadata": {},
   "outputs": [],
   "source": [
    "df2 = df2[df2['total_amount'] > 0]"
   ]
  },
  {
   "cell_type": "code",
   "execution_count": null,
   "id": "da2e227b-9375-4c84-acdf-c9364fccb0b9",
   "metadata": {},
   "outputs": [],
   "source": [
    "df2 = df2[df2['fare_amount'] != 401092.32]"
   ]
  },
  {
   "cell_type": "code",
   "execution_count": null,
   "id": "ffc07814-6efe-4dea-9437-9f549799448a",
   "metadata": {},
   "outputs": [],
   "source": [
    "df2.reset_index(drop=True, inplace=True)"
   ]
  },
  {
   "cell_type": "markdown",
   "id": "37426eb7-ff52-4558-9926-7c628caab41a",
   "metadata": {},
   "source": [
    "## FEATURE UNDERSTANDING"
   ]
  },
  {
   "cell_type": "code",
   "execution_count": null,
   "id": "3dd408cf-02b2-49a1-9415-f4589be08364",
   "metadata": {
    "scrolled": true
   },
   "outputs": [],
   "source": [
    "df2.describe()"
   ]
  },
  {
   "cell_type": "code",
   "execution_count": null,
   "id": "d4fd802b-45d7-457e-806d-7681fb5e4669",
   "metadata": {
    "scrolled": true
   },
   "outputs": [],
   "source": [
    "df2.info()"
   ]
  },
  {
   "cell_type": "code",
   "execution_count": null,
   "id": "2c41e30c-8935-4b6c-ac33-787db466cf41",
   "metadata": {},
   "outputs": [],
   "source": [
    "df2.head(10)"
   ]
  },
  {
   "cell_type": "code",
   "execution_count": null,
   "id": "d7efa0d1-cd41-4c91-aaef-894a865dd38f",
   "metadata": {},
   "outputs": [],
   "source": []
  },
  {
   "cell_type": "markdown",
   "id": "34957913-5d71-44e7-8c11-a639ab8a834c",
   "metadata": {},
   "source": [
    "# Data Transformation"
   ]
  },
  {
   "cell_type": "code",
   "execution_count": null,
   "id": "425b9e7e-6193-4bc7-ab81-6a53388b539a",
   "metadata": {},
   "outputs": [],
   "source": [
    "df2['duration'] =  df2['tpep_dropoff_datetime'] - df2['tpep_pickup_datetime']"
   ]
  },
  {
   "cell_type": "code",
   "execution_count": null,
   "id": "dadb9ea6-689a-4d29-bac8-f874515d4841",
   "metadata": {
    "scrolled": true
   },
   "outputs": [],
   "source": [
    "df2['total_charges'] = df2['fare_amount'] + df2['extra'] + df2['mta_tax'] + df2['tolls_amount'] + df2['improvement_surcharge'] + df2['tip_amount'] + df2['congestion_surcharge'] + df2['airport_fee'] "
   ]
  },
  {
   "cell_type": "code",
   "execution_count": null,
   "id": "4a4b7088-374a-46e0-8050-fedf59da2407",
   "metadata": {},
   "outputs": [],
   "source": [
    "df2 = df2.drop(columns ='total_amount')"
   ]
  },
  {
   "cell_type": "code",
   "execution_count": null,
   "id": "67cd42db-1284-4be9-80bd-67f8796286b3",
   "metadata": {
    "scrolled": true
   },
   "outputs": [],
   "source": [
    "df2"
   ]
  },
  {
   "cell_type": "code",
   "execution_count": null,
   "id": "04fa1792-089c-424b-895c-2e0c24f849f2",
   "metadata": {},
   "outputs": [],
   "source": [
    "df2['PULocationID'].value_counts().sort_values(ascending = False)"
   ]
  },
  {
   "cell_type": "code",
   "execution_count": null,
   "id": "ae27be6b-a918-4ea7-9f66-8409651c5a7b",
   "metadata": {},
   "outputs": [],
   "source": [
    "df2['DOLocationID'].value_counts().sort_values(ascending = False)"
   ]
  },
  {
   "cell_type": "code",
   "execution_count": null,
   "id": "564e97b5-f65f-43ca-bbf4-1027914e6cca",
   "metadata": {},
   "outputs": [],
   "source": []
  },
  {
   "cell_type": "code",
   "execution_count": null,
   "id": "24f04e62-d345-4ddc-8b2c-600df89ef129",
   "metadata": {},
   "outputs": [],
   "source": []
  },
  {
   "cell_type": "markdown",
   "id": "a6833046-84d6-4b5e-ac36-fca188a698ee",
   "metadata": {},
   "source": [
    "## CREATE LOOKUP TABLES AND FACT TABLE"
   ]
  },
  {
   "cell_type": "code",
   "execution_count": null,
   "id": "319df3a2-f966-4094-991c-554726bd3271",
   "metadata": {},
   "outputs": [],
   "source": [
    "df2['trip_ID'] = df2.index"
   ]
  },
  {
   "cell_type": "code",
   "execution_count": null,
   "id": "1b5fa832-852d-4405-89ef-a1c4f8e237de",
   "metadata": {},
   "outputs": [],
   "source": [
    "Vendor_name = {\n",
    "    1:\"Creative Mobile Technologies, LLC\",\n",
    "    2:\"VeriFone Inc.\",\n",
    "}\n",
    "\n",
    "\n",
    "Vendor_lookup = pd.DataFrame({'VendorID': df2['VendorID'].unique()})\n",
    "Vendor_lookup['Vendor_name'] = Vendor_lookup['VendorID'].map(Vendor_name)\n",
    "\n",
    "Vendor_lookup\n"
   ]
  },
  {
   "cell_type": "code",
   "execution_count": null,
   "id": "e218405e-b1ff-4eab-8bbd-28f00fc141f2",
   "metadata": {},
   "outputs": [],
   "source": [
    "PU_datetime_lookup = pd.DataFrame({'PU_datetime': df2['tpep_pickup_datetime'].unique()})\n",
    "PU_datetime_lookup['PU_hour'] = PU_datetime_lookup['PU_datetime'].dt.hour\n",
    "PU_datetime_lookup['PU_day'] = PU_datetime_lookup['PU_datetime'].dt.day\n",
    "PU_datetime_lookup['PU_month'] = PU_datetime_lookup['PU_datetime'].dt.month\n",
    "PU_datetime_lookup['PU_year'] = PU_datetime_lookup['PU_datetime'].dt.year\n",
    "PU_datetime_lookup['PU_weekday'] = PU_datetime_lookup['PU_datetime'].dt.weekday"
   ]
  },
  {
   "cell_type": "code",
   "execution_count": null,
   "id": "ce4187d9-3f24-4af9-95e7-9cae0bb6a61d",
   "metadata": {},
   "outputs": [],
   "source": [
    "PU_datetime_lookup"
   ]
  },
  {
   "cell_type": "code",
   "execution_count": null,
   "id": "75ae7025-2719-449a-9888-092c8f866924",
   "metadata": {},
   "outputs": [],
   "source": [
    "DO_datetime_lookup = pd.DataFrame({'DO_datetime': df2['tpep_dropoff_datetime'].unique()})"
   ]
  },
  {
   "cell_type": "code",
   "execution_count": null,
   "id": "9ab9edd8-9db4-4ff0-b090-de0f31f2af6b",
   "metadata": {},
   "outputs": [],
   "source": [
    "DO_datetime_lookup['DO_hour'] = DO_datetime_lookup['DO_datetime'].dt.hour\n",
    "DO_datetime_lookup['DO_day'] = DO_datetime_lookup['DO_datetime'].dt.day\n",
    "DO_datetime_lookup['DO_month'] = DO_datetime_lookup['DO_datetime'].dt.month\n",
    "DO_datetime_lookup['DO_year'] = DO_datetime_lookup['DO_datetime'].dt.year\n",
    "DO_datetime_lookup['DO_weekday'] = DO_datetime_lookup['DO_datetime'].dt.weekday"
   ]
  },
  {
   "cell_type": "code",
   "execution_count": null,
   "id": "56569c52-2bfd-43c8-9bff-7ce03312af30",
   "metadata": {},
   "outputs": [],
   "source": [
    "DO_datetime_lookup"
   ]
  },
  {
   "cell_type": "code",
   "execution_count": null,
   "id": "b7e6915c-1438-43f6-b4c6-76b603c4b166",
   "metadata": {},
   "outputs": [],
   "source": [
    "RateCode_name = {\n",
    "    1:\"Standard rate\",\n",
    "    2:\"JFK\",\n",
    "    3:\"Newark\",\n",
    "    4:\"Nassau or Westchester\",\n",
    "    5:\"Negotiated fare\",\n",
    "    6:\"Group ride\"\n",
    "}\n",
    "\n",
    "\n",
    "RateCode_lookup = pd.DataFrame({'RatecodeID': df2['RatecodeID'].unique()})\n",
    "RateCode_lookup['RateCode_name'] = RateCode_lookup['RatecodeID'].map(RateCode_name )\n",
    "\n",
    "RateCode_lookup "
   ]
  },
  {
   "cell_type": "code",
   "execution_count": null,
   "id": "1fea206b-d4e0-453a-b757-d1886292ee70",
   "metadata": {},
   "outputs": [],
   "source": [
    "RateCode_lookup = RateCode_lookup.sort_values(by='RatecodeID', ascending=True)\n",
    "\n",
    "RateCode_lookup.reset_index(drop=True, inplace=True )\n",
    "\n",
    "RateCode_lookup"
   ]
  },
  {
   "cell_type": "code",
   "execution_count": null,
   "id": "12ba462e-1be9-4696-8afd-4d278459be3c",
   "metadata": {},
   "outputs": [],
   "source": [
    "Payment_type = {\n",
    "    1:\"Credit card\",\n",
    "    2:\"Cash\",\n",
    "    3:\"No charge\",\n",
    "    4:\"Dispute\",\n",
    "    5:\"Unknown\",\n",
    "    6:\"Voided trip\"\n",
    "}\n",
    "\n",
    "Payment_lookup = pd.DataFrame({'Payment_typeID': df2['payment_type'].unique()})\n",
    "Payment_lookup['Payment_type'] = Payment_lookup['Payment_typeID'].map(Payment_type)\n",
    "\n",
    "Payment_lookup = Payment_lookup.sort_values(by='Payment_typeID', ascending=True)\n",
    "\n",
    "Payment_lookup.reset_index(drop=True, inplace=True )\n",
    "\n",
    "Payment_lookup"
   ]
  },
  {
   "cell_type": "markdown",
   "id": "020393df-a1cc-4a21-8267-3841d132dedc",
   "metadata": {},
   "source": [
    "# EXPORT TO CSV"
   ]
  },
  {
   "cell_type": "code",
   "execution_count": null,
   "id": "601ffaed-0074-4bbe-8ea6-2eeed93e3044",
   "metadata": {},
   "outputs": [],
   "source": [
    "## df2.to_csv(\"fact_table.csv\")\n",
    "## Vendor_lookup.to_csv(\"Vendor_lookup.csv\")\n",
    "##PU_datetime_lookup.to_csv(\"PU_datetime_lookup.csv\")\n",
    "##DO_datetime_lookup.to_csv(\"DO_datetime_lookup.csv\")\n",
    "##RateCode_lookup.to_csv(\"RateCode_lookup.csv\")\n",
    "##Payment_lookup.to_csv(\"Payment_lookup.csv\")"
   ]
  }
 ],
 "metadata": {
  "kernelspec": {
   "display_name": "Python 3 (ipykernel)",
   "language": "python",
   "name": "python3"
  },
  "language_info": {
   "codemirror_mode": {
    "name": "ipython",
    "version": 3
   },
   "file_extension": ".py",
   "mimetype": "text/x-python",
   "name": "python",
   "nbconvert_exporter": "python",
   "pygments_lexer": "ipython3",
   "version": "3.11.3"
  }
 },
 "nbformat": 4,
 "nbformat_minor": 5
}
